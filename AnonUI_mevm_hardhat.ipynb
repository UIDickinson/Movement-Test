{
  "nbformat": 4,
  "nbformat_minor": 0,
  "metadata": {
    "colab": {
      "provenance": []
    },
    "kernelspec": {
      "name": "python3",
      "display_name": "Python 3"
    },
    "language_info": {
      "name": "python"
    }
  },
  "cells": [
    {
      "cell_type": "markdown",
      "source": [
        "#Movement contract deployment with Hardhat and Fractal\n",
        "\n",
        "Prerequisite: Node.js and Git"
      ],
      "metadata": {
        "id": "zM2SVG-0ncpe"
      }
    },
    {
      "cell_type": "markdown",
      "source": [
        "#First setup"
      ],
      "metadata": {
        "id": "4nxXvpcznqRL"
      }
    },
    {
      "cell_type": "code",
      "source": [
        "# Create a project directory and navigate into it\n",
        "mkdir hardhat-move-evm\n",
        "cd hardhat-move-evm\n",
        "\n",
        "# Initialize npm\n",
        "npm init -y\n",
        "\n",
        "# Create a new Hardhat project\n",
        "npx hardhat init\n",
        "\n",
        "#Installing hardhat (choose javascript) and setting up dependcies\n",
        "npm install --save-dev \"hardhat@^2.19.0\" \"@nomicfoundation/hardhat-toolbox@^3.0.0\"\n",
        "\n",
        "#Create an .env file and add your private key:\n",
        "nano .env\n",
        "#Copy below and replace `<your private key>` with your private key without \"0x\":\n",
        "PRIVATE_KEY=<your private key>"
      ],
      "metadata": {
        "colab": {
          "base_uri": "https://localhost:8080/",
          "height": 106
        },
        "id": "F1aDJFcCoy0b",
        "outputId": "597811a5-30c8-4db4-c765-ee4859f0ab3c"
      },
      "execution_count": 1,
      "outputs": [
        {
          "output_type": "error",
          "ename": "SyntaxError",
          "evalue": "invalid syntax (<ipython-input-1-1eab102acfaf>, line 2)",
          "traceback": [
            "\u001b[0;36m  File \u001b[0;32m\"<ipython-input-1-1eab102acfaf>\"\u001b[0;36m, line \u001b[0;32m2\u001b[0m\n\u001b[0;31m    mkdir my-hardhat-project\u001b[0m\n\u001b[0m          ^\u001b[0m\n\u001b[0;31mSyntaxError\u001b[0m\u001b[0;31m:\u001b[0m invalid syntax\n"
          ]
        }
      ]
    },
    {
      "cell_type": "markdown",
      "source": [
        "#Configure Hardhat: Edit hardhat.config.js to include M1 network configurations"
      ],
      "metadata": {
        "id": "0U2XGELwFfRN"
      }
    },
    {
      "cell_type": "code",
      "source": [
        "require(\"@nomicfoundation/hardhat-toolbox\");\n",
        "require('dotenv').config();\n",
        "\n",
        "module.exports = {\n",
        "  defaultNetwork: \"m1\",\n",
        "  networks: {\n",
        "    hardhat: {},\n",
        "    m1: {\n",
        "      url: \"https://mevm.devnet.imola.movementlabs.xyz\",\n",
        "      accounts: [process.env.PRIVATE_KEY],\n",
        "      chainId: 30732\n",
        "    }\n",
        "  },\n",
        "  solidity: {\n",
        "    version: \"0.8.21\",\n",
        "    settings: {\n",
        "      optimizer: {\n",
        "        enabled: true,\n",
        "        runs: 200\n",
        "      }\n",
        "    }\n",
        "  },\n",
        "  paths: {\n",
        "    sources: \"./contracts\",\n",
        "    tests: \"./test\",\n",
        "    cache: \"./cache\",\n",
        "    artifacts: \"./artifacts\"\n",
        "  }\n",
        "};"
      ],
      "metadata": {
        "id": "pmaNMannqe6-"
      },
      "execution_count": null,
      "outputs": []
    },
    {
      "cell_type": "markdown",
      "source": [
        "#Write and deploy contract"
      ],
      "metadata": {
        "id": "sDOj0it7FvFc"
      }
    },
    {
      "cell_type": "markdown",
      "source": [
        "1. Create Contract: Under contracts/\", create a file \"Lock.sol\":"
      ],
      "metadata": {
        "id": "w3WgnbvcGEQI"
      }
    },
    {
      "cell_type": "code",
      "source": [
        "// SPDX-License-Identifier: UNLICENSED\n",
        "pragma solidity ^0.8.9;\n",
        "\n",
        "contract Lock {\n",
        "    uint public unlockTime;\n",
        "    address payable public owner;\n",
        "\n",
        "    event Withdrawal(uint amount, uint when);\n",
        "\n",
        "    constructor(uint _unlockTime) payable {\n",
        "        require(block.timestamp < _unlockTime, \"Unlock time should be in the future\");\n",
        "        unlockTime = _unlockTime;\n",
        "        owner = payable(msg.sender);\n",
        "    }\n",
        "\n",
        "    function withdraw() public {\n",
        "        require(block.timestamp >= unlockTime, \"You can't withdraw yet\");\n",
        "        require(msg.sender == owner, \"You aren't the owner\");\n",
        "\n",
        "        emit Withdrawal(address(this).balance, block.timestamp);\n",
        "        owner.transfer(address(this).balance);\n",
        "    }\n",
        "}"
      ],
      "metadata": {
        "id": "f1lOy0VmFzK7"
      },
      "execution_count": null,
      "outputs": []
    },
    {
      "cell_type": "markdown",
      "source": [
        "2. Deploy Contract: Create a deployment script \"scripts/deploy.js\""
      ],
      "metadata": {
        "id": "mbdTMXuIGX3J"
      }
    },
    {
      "cell_type": "markdown",
      "source": [
        "This first script deploys a basic smart contract and it logs the contract address once deployment is successful."
      ],
      "metadata": {
        "id": "NjL3L5dXRcIP"
      }
    },
    {
      "cell_type": "code",
      "source": [
        "async function main() {\n",
        "  const Lock = await ethers.getContractFactory(\"Lock\");\n",
        "  const lock = await Lock.deploy(/* constructor args */);\n",
        "\n",
        "  console.log(\"Lock deployed to:\", lock.address);\n",
        "}\n",
        "\n",
        "main()\n",
        "  .then(() => process.exit(0))\n",
        "  .catch((error) => {\n",
        "    console.error(error);\n",
        "    process.exit(1);\n",
        "  });"
      ],
      "metadata": {
        "id": "25LY8ybnGrbD"
      },
      "execution_count": null,
      "outputs": []
    },
    {
      "cell_type": "markdown",
      "source": [
        "This second script also deploys the contract but it explicitly handles the Hardhat Runtime Environment (hre). It calculates the current timestamp, adds 60 seconds to create an unlockTime, and transfers 0.001 ETH (lockedAmount) to the contract during deployment.\n",
        "It waits for the deployment to finish and logs the amount of ETH locked, the unlock timestamp, and the contract address once completed."
      ],
      "metadata": {
        "id": "CXmTls0gR8Ip"
      }
    },
    {
      "cell_type": "code",
      "source": [
        "const hre = require(\"hardhat\");\n",
        "\n",
        "async function main() {\n",
        "  const currentTimestampInSeconds = Math.round(Date.now() / 1000);\n",
        "  const unlockTime = currentTimestampInSeconds + 60;\n",
        "\n",
        "  const lockedAmount = hre.ethers.parseEther(\"0.001\");\n",
        "\n",
        "  const lock = await hre.ethers.deployContract(\"Lock\", [unlockTime], {\n",
        "    value: lockedAmount,\n",
        "  });\n",
        "\n",
        "  await lock.waitForDeployment();\n",
        "\n",
        "  console.log(\n",
        "    `Lock with ${ethers.formatEther(\n",
        "      lockedAmount\n",
        "    )}ETH and unlock timestamp ${unlockTime} deployed to ${lock.target}`\n",
        "  );\n",
        "}\n",
        "\n",
        "main().catch((error) => {\n",
        "  console.error(error);\n",
        "  process.exitCode = 1;\n",
        "});"
      ],
      "metadata": {
        "id": "qmSQvde0R8zt"
      },
      "execution_count": null,
      "outputs": []
    },
    {
      "cell_type": "markdown",
      "source": [
        "3. Run Deployment: Execute the deployment script"
      ],
      "metadata": {
        "id": "6NhfMIsxGugk"
      }
    },
    {
      "cell_type": "code",
      "source": [
        "npx hardhat run scripts/deploy.js --network m1\n",
        "\n",
        "#This message \"Lock with 0.001ETH and unlock timestamp <currentTimestamp> deployed to <lockAddress>\", will indicate that you've successfully deployed your contracr. Cheers!"
      ],
      "metadata": {
        "colab": {
          "base_uri": "https://localhost:8080/",
          "height": 106
        },
        "id": "7ye8BXpFG2BU",
        "outputId": "0cdbbdc8-f65d-4195-d553-543aa713f015"
      },
      "execution_count": 2,
      "outputs": [
        {
          "output_type": "error",
          "ename": "SyntaxError",
          "evalue": "invalid syntax (<ipython-input-2-8a29cc33e9fe>, line 1)",
          "traceback": [
            "\u001b[0;36m  File \u001b[0;32m\"<ipython-input-2-8a29cc33e9fe>\"\u001b[0;36m, line \u001b[0;32m1\u001b[0m\n\u001b[0;31m    npx hardhat run scripts/deploy.js --network m1\u001b[0m\n\u001b[0m        ^\u001b[0m\n\u001b[0;31mSyntaxError\u001b[0m\u001b[0;31m:\u001b[0m invalid syntax\n"
          ]
        }
      ]
    },
    {
      "cell_type": "markdown",
      "source": [
        "#Interact with you smart contract\n",
        "The step below is for those who used the second script or has a certain amount of tokens in the deployed address."
      ],
      "metadata": {
        "id": "NlBX415ZVsSJ"
      }
    },
    {
      "cell_type": "markdown",
      "source": [
        "Ensure you replace \"<lockAddress>\" with your deployed contract address"
      ],
      "metadata": {
        "id": "HNroWj3wdE3W"
      }
    },
    {
      "cell_type": "code",
      "source": [
        "const hre = require(\"hardhat\");\n",
        "\n",
        "async function main() {\n",
        "    const lockAddress = \"<lockAddress>\";\n",
        "    console.log(`Lock address: ${lockAddress}`)\n",
        "    const [deployer] = await hre.ethers.getSigners();\n",
        "    console.log(`Deployer address: ${deployer.address}`);\n",
        "    const lockedAmount = await hre.ethers.provider.getBalance(lockAddress);\n",
        "    const currentBalance = await hre.ethers.provider.getBalance(deployer.address);\n",
        "    console.log(\n",
        "        `Current balance of ${deployer.address} is ${hre.ethers.formatEther(currentBalance)}ETH`\n",
        "    );\n",
        "    const lock = await hre.ethers.getContractAt(\"Lock\", lockAddress);\n",
        "\n",
        "    const tx = await lock.withdraw();\n",
        "    await tx.wait();\n",
        "\n",
        "    console.log(\n",
        "        `Withdrawn ${hre.ethers.formatEther(lockedAmount)}ETH from ${lockAddress} to ${deployer.address}`\n",
        "    );\n",
        "\n",
        "    const posBalance = await hre.ethers.provider.getBalance(deployer.address);\n",
        "\n",
        "    console.log(\n",
        "        `Balance after withdrawal of ${deployer.address} is ${hre.ethers.formatEther(posBalance)}ETH`\n",
        "    );\n",
        "    console.log(`sum of previous balance and withdrawn value: ${currentBalance + lockedAmount}`);\n",
        "}\n",
        "\n",
        "main().catch((error) => {\n",
        "    console.error(error);\n",
        "    process.exitCode = 1;\n",
        "});"
      ],
      "metadata": {
        "id": "sYO0BSgjU6be"
      },
      "execution_count": null,
      "outputs": []
    },
    {
      "cell_type": "code",
      "source": [
        "#Run the command\n",
        "npx hardhat run scripts/withdraw.js --network m1"
      ],
      "metadata": {
        "id": "WK2FQqJUcBo1"
      },
      "execution_count": null,
      "outputs": []
    },
    {
      "cell_type": "code",
      "source": [
        "#If you've been successful it display the message below\n",
        "\n",
        "Balance after withdrawal of <yourAddress> is <xValue> ETH\n",
        "sum of previous balance and withdrawn value: <xValue>"
      ],
      "metadata": {
        "id": "M_Bwk2RpcI0m"
      },
      "execution_count": null,
      "outputs": []
    }
  ]
}